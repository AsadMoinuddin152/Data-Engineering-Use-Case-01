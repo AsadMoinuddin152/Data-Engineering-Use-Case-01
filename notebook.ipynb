{
 "cells": [
  {
   "cell_type": "code",
   "execution_count": 3,
   "metadata": {},
   "outputs": [],
   "source": [
    "import pandas as pd\n",
    "import json"
   ]
  },
  {
   "cell_type": "code",
   "execution_count": 44,
   "metadata": {},
   "outputs": [],
   "source": [
    "# Datasets \n",
    "csv_dataset = pd.read_csv(\"./Data sets/amazon.csv\")\n",
    "excel_dataset = pd.read_excel('./Data sets/Sales.xlsx', sheet_name='Orders')\n",
    "json_dataset = pd.read_json(\"./Data sets/steamgames.json\")"
   ]
  },
  {
   "cell_type": "code",
   "execution_count": 45,
   "metadata": {},
   "outputs": [
    {
     "name": "stdout",
     "output_type": "stream",
     "text": [
      "CSV Dataset Columns: Index(['product_id', 'product_name', 'category', 'discounted_price',\n",
      "       'actual_price', 'discount_percentage', 'rating', 'rating_count',\n",
      "       'about_product', 'user_id', 'user_name', 'review_id', 'review_title',\n",
      "       'review_content', 'img_link', 'product_link'],\n",
      "      dtype='object')\n",
      "Excel Dataset Columns: Index(['Row ID', 'Order ID', 'Order Date', 'Ship Date', 'Delivery Duration',\n",
      "       'Ship Mode', 'Customer ID', 'Customer Name', 'Segment', 'Country',\n",
      "       'City', 'State', 'Postal Code', 'Region', 'Product ID', 'Category',\n",
      "       'Sub-Category', 'Product Name', 'Sales', 'Quantity', 'Discount',\n",
      "       'Discount Value', 'Profit', 'COGS'],\n",
      "      dtype='object')\n",
      "JSON Dataset Columns: Index(['name', 'discount', 'orig_price', 'disc_price', 'tags', 'reviews',\n",
      "       'link'],\n",
      "      dtype='object')\n"
     ]
    }
   ],
   "source": [
    "print(\"CSV Dataset Columns:\", csv_dataset.columns)\n",
    "print(\"Excel Dataset Columns:\", excel_dataset.columns)\n",
    "print(\"JSON Dataset Columns:\", json_dataset.columns)"
   ]
  },
  {
   "cell_type": "code",
   "execution_count": 46,
   "metadata": {},
   "outputs": [],
   "source": [
    "json_dataset.rename(columns={'name': 'product_name', 'orig_price': 'actual_price', 'disc_price': 'discounted_price'}, inplace=True)\n",
    "excel_dataset.rename(columns={'Product Name': 'product_name', 'Sales': 'actual_price'}, inplace=True)"
   ]
  },
  {
   "cell_type": "code",
   "execution_count": 47,
   "metadata": {},
   "outputs": [],
   "source": [
    "csv_df = csv_dataset[['product_name', 'actual_price']]\n",
    "excel_df = excel_dataset[['product_name', 'actual_price']]\n",
    "json_df = json_dataset[['product_name', 'actual_price', 'discounted_price']]"
   ]
  },
  {
   "cell_type": "code",
   "execution_count": 48,
   "metadata": {},
   "outputs": [
    {
     "name": "stderr",
     "output_type": "stream",
     "text": [
      "C:\\Users\\moinu\\AppData\\Local\\Temp\\ipykernel_6716\\361536175.py:1: SettingWithCopyWarning: \n",
      "A value is trying to be set on a copy of a slice from a DataFrame.\n",
      "Try using .loc[row_indexer,col_indexer] = value instead\n",
      "\n",
      "See the caveats in the documentation: https://pandas.pydata.org/pandas-docs/stable/user_guide/indexing.html#returning-a-view-versus-a-copy\n",
      "  json_df['actual_price'] = json_df['actual_price'].fillna(json_df['discounted_price'])\n"
     ]
    }
   ],
   "source": [
    "json_df['actual_price'] = json_df['actual_price'].fillna(json_df['discounted_price'])"
   ]
  },
  {
   "cell_type": "code",
   "execution_count": 49,
   "metadata": {},
   "outputs": [],
   "source": [
    "json_df = json_df.drop(columns=['discounted_price'])"
   ]
  },
  {
   "cell_type": "code",
   "execution_count": 50,
   "metadata": {},
   "outputs": [],
   "source": [
    "merged_df = pd.merge(csv_df, excel_df, on='product_name', how='outer')\n",
    "merged_df = pd.merge(merged_df, json_df, on='product_name', how='outer')"
   ]
  },
  {
   "cell_type": "code",
   "execution_count": 51,
   "metadata": {},
   "outputs": [
    {
     "name": "stderr",
     "output_type": "stream",
     "text": [
      "C:\\Users\\moinu\\AppData\\Local\\Temp\\ipykernel_6716\\3366112267.py:1: FutureWarning: Downcasting object dtype arrays on .fillna, .ffill, .bfill is deprecated and will change in a future version. Call result.infer_objects(copy=False) instead. To opt-in to the future behavior, set `pd.set_option('future.no_silent_downcasting', True)`\n",
      "  merged_df['actual_price'] = merged_df[['actual_price_x', 'actual_price_y', 'actual_price']].bfill(axis=1).iloc[:, 0]\n"
     ]
    }
   ],
   "source": [
    "merged_df['actual_price'] = merged_df[['actual_price_x', 'actual_price_y', 'actual_price']].bfill(axis=1).iloc[:, 0]"
   ]
  },
  {
   "cell_type": "code",
   "execution_count": 52,
   "metadata": {},
   "outputs": [],
   "source": [
    "merged_df = merged_df[['product_name', 'actual_price']]"
   ]
  },
  {
   "cell_type": "code",
   "execution_count": 53,
   "metadata": {},
   "outputs": [],
   "source": [
    "merged_df.dropna(subset=['actual_price'], inplace=True)\n"
   ]
  },
  {
   "cell_type": "code",
   "execution_count": 54,
   "metadata": {},
   "outputs": [
    {
     "data": {
      "text/html": [
       "<div>\n",
       "<style scoped>\n",
       "    .dataframe tbody tr th:only-of-type {\n",
       "        vertical-align: middle;\n",
       "    }\n",
       "\n",
       "    .dataframe tbody tr th {\n",
       "        vertical-align: top;\n",
       "    }\n",
       "\n",
       "    .dataframe thead th {\n",
       "        text-align: right;\n",
       "    }\n",
       "</style>\n",
       "<table border=\"1\" class=\"dataframe\">\n",
       "  <thead>\n",
       "    <tr style=\"text-align: right;\">\n",
       "      <th></th>\n",
       "      <th>product_name</th>\n",
       "      <th>actual_price</th>\n",
       "    </tr>\n",
       "  </thead>\n",
       "  <tbody>\n",
       "    <tr>\n",
       "      <th>0</th>\n",
       "      <td>!!1000 Watt/2000-Watt Room Heater!! Fan Heater...</td>\n",
       "      <td>₹1,599</td>\n",
       "    </tr>\n",
       "    <tr>\n",
       "      <th>1</th>\n",
       "      <td>!!HANEUL!!1000 Watt/2000-Watt Room Heater!! Fa...</td>\n",
       "      <td>₹1,599</td>\n",
       "    </tr>\n",
       "    <tr>\n",
       "      <th>2</th>\n",
       "      <td>\"While you Were Out\" Message Book, One Form pe...</td>\n",
       "      <td>7.42</td>\n",
       "    </tr>\n",
       "    <tr>\n",
       "      <th>3</th>\n",
       "      <td>\"While you Were Out\" Message Book, One Form pe...</td>\n",
       "      <td>8.904</td>\n",
       "    </tr>\n",
       "    <tr>\n",
       "      <th>4</th>\n",
       "      <td>\"While you Were Out\" Message Book, One Form pe...</td>\n",
       "      <td>8.904</td>\n",
       "    </tr>\n",
       "    <tr>\n",
       "      <th>...</th>\n",
       "      <td>...</td>\n",
       "      <td>...</td>\n",
       "    </tr>\n",
       "    <tr>\n",
       "      <th>14182</th>\n",
       "      <td>骸心 Mainbody</td>\n",
       "      <td>99.0</td>\n",
       "    </tr>\n",
       "    <tr>\n",
       "      <th>14183</th>\n",
       "      <td>눈 떠보니 임진왜란이었다 - Back To the Joseon</td>\n",
       "      <td>239.0</td>\n",
       "    </tr>\n",
       "    <tr>\n",
       "      <th>14184</th>\n",
       "      <td>미연시 시뮬레이터 : 미소녀 게임의 주인공을 조종하는 게임</td>\n",
       "      <td>299.0</td>\n",
       "    </tr>\n",
       "    <tr>\n",
       "      <th>14185</th>\n",
       "      <td>피랍 일지 - 그 남자로부터의 탈출</td>\n",
       "      <td>329.0</td>\n",
       "    </tr>\n",
       "    <tr>\n",
       "      <th>14186</th>\n",
       "      <td>🧠 OUT OF THE BOX</td>\n",
       "      <td>1499.0</td>\n",
       "    </tr>\n",
       "  </tbody>\n",
       "</table>\n",
       "<p>14187 rows × 2 columns</p>\n",
       "</div>"
      ],
      "text/plain": [
       "                                            product_name actual_price\n",
       "0      !!1000 Watt/2000-Watt Room Heater!! Fan Heater...       ₹1,599\n",
       "1      !!HANEUL!!1000 Watt/2000-Watt Room Heater!! Fa...       ₹1,599\n",
       "2      \"While you Were Out\" Message Book, One Form pe...         7.42\n",
       "3      \"While you Were Out\" Message Book, One Form pe...        8.904\n",
       "4      \"While you Were Out\" Message Book, One Form pe...        8.904\n",
       "...                                                  ...          ...\n",
       "14182                                        骸心 Mainbody         99.0\n",
       "14183                 눈 떠보니 임진왜란이었다 - Back To the Joseon        239.0\n",
       "14184                   미연시 시뮬레이터 : 미소녀 게임의 주인공을 조종하는 게임        299.0\n",
       "14185                                피랍 일지 - 그 남자로부터의 탈출        329.0\n",
       "14186                                   🧠 OUT OF THE BOX       1499.0\n",
       "\n",
       "[14187 rows x 2 columns]"
      ]
     },
     "execution_count": 54,
     "metadata": {},
     "output_type": "execute_result"
    }
   ],
   "source": [
    "merged_df"
   ]
  },
  {
   "cell_type": "code",
   "execution_count": 55,
   "metadata": {},
   "outputs": [],
   "source": [
    "merged_df.to_csv('combined_dataset.csv', index=False)"
   ]
  },
  {
   "cell_type": "code",
   "execution_count": null,
   "metadata": {},
   "outputs": [],
   "source": []
  }
 ],
 "metadata": {
  "kernelspec": {
   "display_name": "Python 3",
   "language": "python",
   "name": "python3"
  },
  "language_info": {
   "codemirror_mode": {
    "name": "ipython",
    "version": 3
   },
   "file_extension": ".py",
   "mimetype": "text/x-python",
   "name": "python",
   "nbconvert_exporter": "python",
   "pygments_lexer": "ipython3",
   "version": "3.12.4"
  }
 },
 "nbformat": 4,
 "nbformat_minor": 2
}
